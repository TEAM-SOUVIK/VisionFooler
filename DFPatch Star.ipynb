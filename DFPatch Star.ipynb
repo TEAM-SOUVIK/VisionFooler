{
 "cells": [
  {
   "cell_type": "code",
   "execution_count": 7,
   "id": "95a5e52d-d026-4d34-9120-40ce4eca19ac",
   "metadata": {},
   "outputs": [],
   "source": [
    "import torch\n",
    "import torch.optim as optim\n",
    "from PIL import Image, ImageDraw\n",
    "import matplotlib.pyplot as plt\n",
    "import numpy as np\n"
   ]
  },
  {
   "cell_type": "code",
   "execution_count": 21,
   "id": "52bcfd95-14ec-4094-8f9d-80f72620ec26",
   "metadata": {},
   "outputs": [],
   "source": [
    "\n",
    "def mock_classifier(x):\n",
    "    return torch.rand((1, 10), requires_grad=True)  \n",
    "\n",
    "def adversarial_loss(output, target):  \n",
    "    target_score = output[0, target]\n",
    "    return -target_score  \n",
    "    \n",
    "def draw_mask(center, rays, angles, image_size):\n",
    "    image = Image.new('L', image_size, 0)\n",
    "    draw = ImageDraw.Draw(image)\n",
    "    for angle, ray in zip(angles, rays):\n",
    "        end_x = int(center[0] + ray * np.cos(angle))\n",
    "        end_y = int(center[1] + ray * np.sin(angle))\n",
    "        draw.line([center, (end_x, end_y)], fill=255, width=10)\n",
    "    return np.array(image)\n"
   ]
  },
  {
   "cell_type": "code",
   "execution_count": 22,
   "id": "68ca918b-1dde-4332-9d02-b7ee091af472",
   "metadata": {},
   "outputs": [],
   "source": [
    "\n",
    "def generate_adversarial_patch(initial_shape, target_class, iterations=500):\n",
    "    center = (250, 250)\n",
    "    image_size = (500, 500)\n",
    "    angles = np.linspace(0, 2 * np.pi, len(initial_shape), endpoint=False)\n",
    "\n",
    "    rays = np.random.uniform(50, 150, len(initial_shape))\n",
    "    texture = torch.rand(3, *image_size, requires_grad=True)\n",
    "    optimizer = optim.Adam([texture], lr=0.01)\n",
    "\n",
    "    for i in range(iterations):\n",
    "        optimizer.zero_grad()\n",
    "\n",
    "        # Simulate classifier output and compute loss\n",
    "        output = mock_classifier(texture)\n",
    "        loss = adversarial_loss(output, target_class)\n",
    "        loss.backward()\n",
    "        optimizer.step()\n",
    "\n",
    "        if i % 10 == 0:\n",
    "            print(f\"Iteration {i}, Loss: {loss.item()}\")\n",
    "\n",
    "    # Generate mask for visualization only\n",
    "    mask = draw_mask(center, rays, angles, image_size)\n",
    "    mask_tensor = torch.from_numpy(mask).to(torch.float32).unsqueeze(0) / 255.0\n",
    "\n",
    "    patch_array = texture.detach() * mask_tensor\n",
    "    patch_array = patch_array.permute(1, 2, 0).numpy()  \n",
    "    return patch_array\n",
    "\n"
   ]
  },
  {
   "cell_type": "code",
   "execution_count": 23,
   "id": "55e1de9e-15d0-45af-86f0-1dec0fd0b3fa",
   "metadata": {},
   "outputs": [
    {
     "name": "stdout",
     "output_type": "stream",
     "text": [
      "Iteration 0, Loss: -0.5084506273269653\n",
      "Iteration 10, Loss: -0.08906173706054688\n",
      "Iteration 20, Loss: -0.4459388852119446\n",
      "Iteration 30, Loss: -0.7779527306556702\n",
      "Iteration 40, Loss: -0.5422667264938354\n",
      "Iteration 50, Loss: -0.13055086135864258\n",
      "Iteration 60, Loss: -0.6415572166442871\n",
      "Iteration 70, Loss: -0.8142387270927429\n",
      "Iteration 80, Loss: -0.23976916074752808\n",
      "Iteration 90, Loss: -0.1379697322845459\n",
      "Iteration 100, Loss: -0.4048614501953125\n",
      "Iteration 110, Loss: -0.41698360443115234\n",
      "Iteration 120, Loss: -0.9538891315460205\n",
      "Iteration 130, Loss: -0.2094273567199707\n",
      "Iteration 140, Loss: -0.6963130235671997\n",
      "Iteration 150, Loss: -0.3143315315246582\n",
      "Iteration 160, Loss: -0.06971299648284912\n",
      "Iteration 170, Loss: -0.0519559383392334\n",
      "Iteration 180, Loss: -0.781075656414032\n",
      "Iteration 190, Loss: -0.0512847900390625\n",
      "Iteration 200, Loss: -0.8046348690986633\n",
      "Iteration 210, Loss: -0.8921080231666565\n",
      "Iteration 220, Loss: -0.011060833930969238\n",
      "Iteration 230, Loss: -0.24650490283966064\n",
      "Iteration 240, Loss: -0.7749528884887695\n",
      "Iteration 250, Loss: -0.8206404447555542\n",
      "Iteration 260, Loss: -0.9651848673820496\n",
      "Iteration 270, Loss: -0.9646620154380798\n",
      "Iteration 280, Loss: -0.8203297853469849\n",
      "Iteration 290, Loss: -0.5823063254356384\n",
      "Iteration 300, Loss: -0.359515905380249\n",
      "Iteration 310, Loss: -0.5622884035110474\n",
      "Iteration 320, Loss: -0.8045113682746887\n",
      "Iteration 330, Loss: -0.7780304551124573\n",
      "Iteration 340, Loss: -0.049625933170318604\n",
      "Iteration 350, Loss: -0.0071759819984436035\n",
      "Iteration 360, Loss: -0.24538254737854004\n",
      "Iteration 370, Loss: -0.5533614754676819\n",
      "Iteration 380, Loss: -0.6986158490180969\n",
      "Iteration 390, Loss: -0.493266761302948\n",
      "Iteration 400, Loss: -0.12734436988830566\n",
      "Iteration 410, Loss: -0.890105664730072\n",
      "Iteration 420, Loss: -0.36365169286727905\n",
      "Iteration 430, Loss: -0.6165695190429688\n",
      "Iteration 440, Loss: -0.4316807985305786\n",
      "Iteration 450, Loss: -0.02510768175125122\n",
      "Iteration 460, Loss: -0.40251624584198\n",
      "Iteration 470, Loss: -0.15058767795562744\n",
      "Iteration 480, Loss: -0.05491602420806885\n",
      "Iteration 490, Loss: -0.6271862983703613\n"
     ]
    },
    {
     "data": {
      "image/png": "[encoded data removed]",
      "text/plain": [
       "<Figure size 640x480 with 1 Axes>"
      ]
     },
     "metadata": {},
     "output_type": "display_data"
    }
   ],
   "source": [
    "target_class = 7\n",
    "patch = generate_adversarial_patch([50, 0, 90, 110, 20], target_class)\n",
    "plt.imshow(patch)\n",
    "plt.title(\"Generated Adversarial Patch\")\n",
    "plt.show()\n"
   ]
  },
  {
   "cell_type": "code",
   "execution_count": null,
   "id": "1c492e3c-39f8-48ff-842f-1e4ce5482631",
   "metadata": {},
   "outputs": [],
   "source": [
    "now i want to apply that patch on VGG net classifier and also save the patched image, generate the whole code error free format\n"
   ]
  },
  {
   "cell_type": "code",
   "execution_count": null,
   "id": "126da019-8940-4331-9d0e-490f8905a2c2",
   "metadata": {},
   "outputs": [],
   "source": []
  },
  {
   "cell_type": "code",
   "execution_count": null,
   "id": "98a5535c-fea1-430e-be96-777cac5f85e8",
   "metadata": {},
   "outputs": [],
   "source": []
  }
 ],
 "metadata": {
  "kernelspec": {
   "display_name": "Python 3 (ipykernel)",
   "language": "python",
   "name": "python3"
  },
  "language_info": {
   "codemirror_mode": {
    "name": "ipython",
    "version": 3
   },
   "file_extension": ".py",
   "mimetype": "text/x-python",
   "name": "python",
   "nbconvert_exporter": "python",
   "pygments_lexer": "ipython3",
   "version": "3.10.12"
  }
 },
 "nbformat": 4,
 "nbformat_minor": 5
}
